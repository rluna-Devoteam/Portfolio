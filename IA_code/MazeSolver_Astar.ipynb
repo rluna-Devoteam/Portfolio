{
 "cells": [
  {
   "cell_type": "code",
   "execution_count": null,
   "metadata": {},
   "outputs": [],
   "source": [
    "\n",
    "\n",
    "from pyamaze import maze,agent,textLabel\n",
    "from queue import PriorityQueue\n",
    "import random\n",
    "from math import *\n",
    "import time\n",
    "\n",
    "def h(cell1,cell2):\n",
    "\n",
    "    x1,y1=cell1\n",
    "    x2,y2=cell2\n",
    "\n",
    "    return sqrt((x1-x2)**2 +(y1-y2)**2)\n",
    "\n",
    "\n",
    "def aStar(m):\n",
    "\n",
    "    start=(m.rows,m.cols)\n",
    "    g_score={cell:float('inf') for cell in m.grid}\n",
    "    g_score[start]=0\n",
    "    f_score={cell:float('inf') for cell in m.grid}\n",
    "    f_score[start]=h(start,(1,1))\n",
    "\n",
    "    open=PriorityQueue()\n",
    "    open.put((h(start,(1,1)),h(start,(1,1)),start))\n",
    "    aPath={}\n",
    "\n",
    "    while not open.empty():\n",
    "\n",
    "        currCell=open.get()[2]\n",
    "\n",
    "        if currCell==(1,1):\n",
    "\n",
    "            break\n",
    "\n",
    "        for d in 'ESNW':\n",
    "\n",
    "            if m.maze_map[currCell][d]==True:\n",
    "\n",
    "                if d=='E':\n",
    "\n",
    "                    childCell=(currCell[0],currCell[1]+1)\n",
    "\n",
    "                if d=='W':\n",
    "\n",
    "                    childCell=(currCell[0],currCell[1]-1)\n",
    "\n",
    "                if d=='N':\n",
    "\n",
    "                    childCell=(currCell[0]-1,currCell[1])\n",
    "\n",
    "                if d=='S':\n",
    "\n",
    "                    childCell=(currCell[0]+1,currCell[1])\n",
    "\n",
    "                temp_g_score=g_score[currCell]+1\n",
    "                temp_f_score=temp_g_score+h(childCell,(1,1))\n",
    "\n",
    "                if temp_f_score < f_score[childCell]:\n",
    "\n",
    "                    g_score[childCell]= temp_g_score\n",
    "                    f_score[childCell]= temp_f_score\n",
    "                    open.put((temp_f_score,h(childCell,(1,1)),childCell))\n",
    "                    aPath[childCell]=currCell\n",
    "\n",
    "    fwdPath={}\n",
    "    cell=(1,1)\n",
    "\n",
    "    while cell!=start:\n",
    "\n",
    "        fwdPath[aPath[cell]]=cell\n",
    "        cell=aPath[cell]\n",
    "        \n",
    "    return fwdPath\n",
    "\n",
    "\n",
    "random.seed(100)\n",
    "m=maze(100,100)\n",
    "m.CreateMaze()\n"
   ]
  },
  {
   "cell_type": "code",
   "execution_count": null,
   "metadata": {},
   "outputs": [],
   "source": [
    "times = []\n",
    "\n",
    "for x in range(100):\n",
    "\n",
    "    resta = time.time()\n",
    "    path=aStar(m)\n",
    "    times.append(time.time()-resta)"
   ]
  },
  {
   "cell_type": "code",
   "execution_count": null,
   "metadata": {},
   "outputs": [],
   "source": [
    "import matplotlib.pyplot as plt\n",
    "\n",
    "plt.figure()\n",
    "plt.plot(times)\n",
    "plt.show()"
   ]
  },
  {
   "cell_type": "code",
   "execution_count": null,
   "metadata": {},
   "outputs": [],
   "source": [
    "a=agent(m,footprints=True)\n",
    "m.tracePath({a:path},delay=5)\n",
    "l=textLabel(m,'A Star Path Length',len(path)+1)\n",
    "m.run()"
   ]
  }
 ],
 "metadata": {
  "kernelspec": {
   "display_name": "Python 3",
   "language": "python",
   "name": "python3"
  },
  "language_info": {
   "name": "python",
   "version": "3.10.8"
  },
  "orig_nbformat": 4,
  "vscode": {
   "interpreter": {
    "hash": "e226aae45a96efef7e10cb202508c4a6e9bf0b8c7128b38637009d6f2f6bb6d2"
   }
  }
 },
 "nbformat": 4,
 "nbformat_minor": 2
}
